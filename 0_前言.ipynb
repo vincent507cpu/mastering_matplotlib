{
 "cells": [
  {
   "cell_type": "markdown",
   "id": "f49dfc35-35b5-41cf-b6ce-07f223a28f58",
   "metadata": {},
   "source": [
    "前段时间参加了一个比赛，涉及数据可视化。虽然说处理数据（包括可视化）是算法工程师的基本功，以前也只是浅尝辄止。正好我刚刚离职，打算休息一段时间，用这段时间系统整理一下 Python 可视化包 matplotlib 的使用方法。\n",
    "\n",
    "市面上已经有不少讲数据可视化和 matplotlib 的书。而作为一个学习过中国和美国的计算机课程的人，我感到这些书籍反映了国内的计算机教学中的一个很大的误区：要么默认读者了解很多知识，隐藏了很多重要的思维片段；要么对知识的讲解和实践的要求停留在很粗浅的阶段。反观美国名校的计算机本科课程（比如纽约大学的 DLSP20 或斯坦福大学的 224N），一般开始时要求很低，10 余节课（一学期）后却已经可以完成一篇顶会论文的工作。这是我非常认可的理念：获得知识需要付出艰苦努力，但知识不是少数人的特权，知识欢迎所有付出了艰苦努力的人。\n",
    "\n",
    "本系列文章仅要求读者拥有基本的 Python 编程能力，我将使用尽可能通俗、显式、完整的语言，从简单到复杂，系统介绍 matplotlib 的功能。\n",
    "\n",
    "# 文章结构\n",
    "统计学家 Hadley Wickham 在其论文《A layered grammar of graphics》中，将一张图分解为 defaults，layer，scale，coord 和 facet 等五个大部分，并以此指导了 ggplot2 包的开发。而 matplotlib 也将图分解成了几部分：\n",
    "![](pics/fig_map.png)\n",
    "![](pics/anatomy.png)\n",
    "\n",
    "本系列文章在上述资料的基础上将一张图分解成如下几个部分：\n",
    "- 画布：承载所有绘图元素的区域\n",
    "- 画框：一个独立的绘画对象，包括若干图案，坐标轴，修饰等\n",
    "- 图像：一个用特定方式描述一组数据的图形\n",
    "- 坐标轴：画框边缘用来表示数值意义的轴线及附属物，如刻度，刻度跨度，刻度标记等\n",
    "- 修饰：用来说明、展示图像信息的额外元素，如图例，文字，标题，网格线等\n",
    "\n",
    "本文从简单到复杂，以如下顺序解析 matplotlib 相关功能：\n",
    "- 单画框单图\n",
    "  - 散点图\n",
    "\t- 折线图\n",
    "\t- ...\n",
    "- 单画框多图\n",
    "- 色彩\n",
    "- 坐标轴\n",
    "- 修饰\n",
    "\t- 文本\n",
    "\t- 图例\n",
    "\t- 标题\n",
    "- 多画框多图\n",
    "- 画布\n",
    "- 可视化的简易方法\n",
    "- matplotlib 其它功能\n",
    " \n",
    "本文使用的版本如下：\n",
    "```python\n",
    "python=3.10.12\n",
    "numpy=1.25.0\n",
    "matplotlib=3.7.1\n",
    "```"
   ]
  },
  {
   "cell_type": "code",
   "execution_count": null,
   "id": "0689af68-9f23-4c79-9e0d-bfc566ba5f22",
   "metadata": {},
   "outputs": [],
   "source": []
  }
 ],
 "metadata": {
  "kernelspec": {
   "display_name": "PLOT",
   "language": "python",
   "name": "plot"
  },
  "language_info": {
   "codemirror_mode": {
    "name": "ipython",
    "version": 3
   },
   "file_extension": ".py",
   "mimetype": "text/x-python",
   "name": "python",
   "nbconvert_exporter": "python",
   "pygments_lexer": "ipython3",
   "version": "3.10.12"
  }
 },
 "nbformat": 4,
 "nbformat_minor": 5
}
