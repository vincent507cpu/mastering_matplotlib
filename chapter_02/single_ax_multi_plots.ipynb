{
 "cells": [
  {
   "cell_type": "code",
   "execution_count": null,
   "id": "9c3c4627-9869-4098-a768-2141a48dce00",
   "metadata": {},
   "outputs": [],
   "source": [
    "import numpy as np\n",
    "import matplotlib.pyplot as plt\n",
    "plt.rcParams['font.sans-serif'] = ['Heiti TC']"
   ]
  },
  {
   "cell_type": "markdown",
   "id": "3302e956-db00-4bb9-a5bd-c8842c892797",
   "metadata": {},
   "source": [
    "本篇将讨论如何在一幅图中绘制多个图形。在同一幅图中显示多个美术体，添加图例（legend）可能会更清楚。本文的初衷是讨论如何同时显示多个艺术体，有关坐标系的设置请见下一篇文章。\n",
    "# 使用相同坐标系显示多个艺术体\n",
    "只需要在同一个 ax 上绘制多个图形即可。"
   ]
  },
  {
   "cell_type": "code",
   "execution_count": null,
   "id": "eadf5bd4-a310-4087-b751-8b190463d752",
   "metadata": {},
   "outputs": [],
   "source": [
    "y = np.arange(5)\n",
    "\n",
    "fig, ax = plt.subplots()\n",
    "\n",
    "ax.plot(y, label = 'line 1')\n",
    "ax.plot(y + 1, label = 'line 2')\n",
    "ax.legend()\n",
    "\n",
    "plt.show()"
   ]
  },
  {
   "cell_type": "markdown",
   "id": "717d08a7-7879-4803-9e62-5e42647b5461",
   "metadata": {},
   "source": [
    "# 同一幅图中多个艺术体共享不同坐标系\n",
    "可使用 `twinx` 或 `twiny` 在原有里添加一个新的 y 轴或 x 轴。这种情况下最好不要超过两个艺术体，否则会让人感到困惑。可以看成是第二个画框除了 y 轴或 x 轴与第一个画框不同，其余部分重叠。\n",
    "## `twinx`\n",
    "两个共用 x 轴的艺术体共用 x 轴，第二个艺术体的 y 轴位于画布右侧。"
   ]
  },
  {
   "cell_type": "code",
   "execution_count": null,
   "id": "c77704d7-3213-4276-851a-ab963ea614b8",
   "metadata": {},
   "outputs": [],
   "source": [
    "x = np.arange(0.01, 10, 0.01)\n",
    "y1 = np.cos(x)\n",
    "y2 = np.sin(x)\n",
    "\n",
    "fig, ax = plt.subplots()\n",
    "\n",
    "ax.plot(x, y1, label = 'line 1', color = 'red')\n",
    "\n",
    "new_ax = ax.twinx()\n",
    "new_ax.plot(x, y2 * 5, label = 'line 2', color = 'blue')\n",
    "\n",
    "fig.legend(loc = 'right')\n",
    "plt.show()"
   ]
  },
  {
   "cell_type": "markdown",
   "id": "94632c8b-6e88-4db8-aaec-87b18ff37f88",
   "metadata": {},
   "source": [
    "## `twiny`\n",
    "两个共用 y 轴的艺术体共用 y 轴，第二个艺术体的 x 轴位于画布上边。这种情况要求 y 值在同一个数量级，比较少见。"
   ]
  },
  {
   "cell_type": "code",
   "execution_count": null,
   "id": "d26b11e4-9c3b-44c5-9766-4c1b842fbb42",
   "metadata": {},
   "outputs": [],
   "source": [
    "x = np.arange(0.01, 10, 0.01)\n",
    "y1 = np.cos(x)\n",
    "y2 = x ** 2 / 100\n",
    "\n",
    "fig, ax = plt.subplots()\n",
    "\n",
    "ax.plot(x, y1, label = 'line 1', color = 'red')\n",
    "\n",
    "new_ax = ax.twiny()\n",
    "new_ax.plot(x + 10, y2, label = 'line 2', color = 'blue')\n",
    "\n",
    "fig.legend(loc = 'upper center')\n",
    "plt.show()"
   ]
  },
  {
   "cell_type": "code",
   "execution_count": null,
   "id": "3e61dc60-9de3-49e0-a640-330a2283db34",
   "metadata": {},
   "outputs": [],
   "source": []
  }
 ],
 "metadata": {
  "kernelspec": {
   "display_name": "PLOT",
   "language": "python",
   "name": "plot"
  },
  "language_info": {
   "codemirror_mode": {
    "name": "ipython",
    "version": 3
   },
   "file_extension": ".py",
   "mimetype": "text/x-python",
   "name": "python",
   "nbconvert_exporter": "python",
   "pygments_lexer": "ipython3",
   "version": "3.10.12"
  }
 },
 "nbformat": 4,
 "nbformat_minor": 5
}
