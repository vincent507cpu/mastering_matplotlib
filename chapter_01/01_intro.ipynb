{
 "cells": [
  {
   "cell_type": "code",
   "execution_count": 1,
   "id": "a7dd4f5a-e060-4e3b-9473-28a7cd63940d",
   "metadata": {},
   "outputs": [],
   "source": [
    "import numpy as np\n",
    "import matplotlib.pyplot as plt\n",
    "%matplotlib inline"
   ]
  },
  {
   "cell_type": "markdown",
   "id": "35078ad1-abab-4791-88fe-c7cc2ca154ca",
   "metadata": {},
   "source": [
    "在上一篇文章里提到，一张图由一个画布和一个或若干画框构成。画图时可以显式或隐式指定画布和画框："
   ]
  },
  {
   "cell_type": "code",
   "execution_count": null,
   "id": "dd9ba27b-bb4e-4cbb-85e1-c79e8d07320e",
   "metadata": {},
   "outputs": [],
   "source": [
    "plt.plot(x,y) # 隐式\n",
    "\n",
    "fig, ax = plt.subplots() # 同时创建画布和画框\n",
    "ax.plot(x,y) # 显式"
   ]
  },
  {
   "cell_type": "markdown",
   "id": "bb67cd40-6d94-4aa9-89b8-a1fa644bf311",
   "metadata": {},
   "source": [
    "在隐式指定时，画图命令对最近的画框生效，缺乏对绘图对象的控制。这时，绘图对象是一个黑盒，并不能区分当前的画布和画框，不利于学习。正确的学习方法是先以 ax 为基础搞明白每个元素的操作方法，之后遇到简单的任务需要快速绘图的时候，使用 `plt.xxx` 就可以了。\n",
    "\n",
    "正确的画图方法是首先创建画布和画框："
   ]
  },
  {
   "cell_type": "code",
   "execution_count": null,
   "id": "e258b5af-b1bc-429a-8eeb-9fb43dffa908",
   "metadata": {},
   "outputs": [],
   "source": [
    "# 如果只创建一个画框\n",
    "fig, ax = plt.subplots()\n",
    "# 如果创建多个画框\n",
    "fig, axes = plt.subplots(...)"
   ]
  },
  {
   "cell_type": "markdown",
   "id": "d1eed1b2-c751-47a7-9f4f-2adfe24e3de3",
   "metadata": {},
   "source": [
    "`plt.subplots` 里有若干参数，这些参数会在后面详细分析。`ax` 就是以后要操纵的对象，`axes` 是一个矩阵，里面元素是创建的画框对象。以单画框为例，正确的画图方法应该是："
   ]
  },
  {
   "cell_type": "code",
   "execution_count": null,
   "id": "7ffed5a9-ef21-4aae-ba2c-d1d04fc80196",
   "metadata": {},
   "outputs": [],
   "source": [
    "fig, ax = plt.subplots()\n",
    "ax.xxx() # 对画框进行操作\n",
    "plt.show()"
   ]
  }
 ],
 "metadata": {
  "kernelspec": {
   "display_name": "PLOT",
   "language": "python",
   "name": "plot"
  },
  "language_info": {
   "codemirror_mode": {
    "name": "ipython",
    "version": 3
   },
   "file_extension": ".py",
   "mimetype": "text/x-python",
   "name": "python",
   "nbconvert_exporter": "python",
   "pygments_lexer": "ipython3",
   "version": "3.10.12"
  }
 },
 "nbformat": 4,
 "nbformat_minor": 5
}
